{
 "cells": [
  {
   "cell_type": "code",
   "execution_count": 8,
   "metadata": {},
   "outputs": [],
   "source": [
    "from flask import Flask, request\n",
    "import vonage"
   ]
  },
  {
   "cell_type": "code",
   "execution_count": 9,
   "metadata": {},
   "outputs": [],
   "source": [
    "app = Flask(__name__)"
   ]
  },
  {
   "cell_type": "code",
   "execution_count": 10,
   "metadata": {},
   "outputs": [],
   "source": [
    "client = vonage.Client(key=\"585e8842\", secret=\"7q7wc5NU4PLsd1Gc\")\n",
    "sms = vonage.Sms(client)"
   ]
  },
  {
   "cell_type": "code",
   "execution_count": 14,
   "metadata": {},
   "outputs": [
    {
     "name": "stdout",
     "output_type": "stream",
     "text": [
      "Message sent successfully.\n"
     ]
    }
   ],
   "source": [
    "responseData = sms.send_message(\n",
    "    {\n",
    "        \"from\": \"Vonage APIs\",\n",
    "        \"to\": \"5702677711\",\n",
    "        \"text\": \"A text message sent using the Nexmo SMS API\",\n",
    "    }\n",
    ")\n",
    "\n",
    "if responseData[\"messages\"][0][\"status\"] == \"0\":\n",
    "    print(\"Message sent successfully.\")\n",
    "else:\n",
    "    print(f\"Message failed with error: {responseData['messages'][0]['error-text']}\")"
   ]
  },
  {
   "cell_type": "code",
   "execution_count": null,
   "metadata": {},
   "outputs": [],
   "source": [
    "@app.route(\"/sms\", methods=['POST'])\n",
    "def receive_sms():\n",
    "    data = request.get_json()\n",
    "    sender = data['msisdn']\n",
    "    message_body = data['text']\n",
    "\n",
    "    # Do something with the sender and message body, such as printing them\n",
    "    print(f\"Message from {sender}: {message_body}\")\n",
    "\n",
    "    # Send a reply (optional)\n",
    "    client = Sms(\n",
    "        key='',\n",
    "        secret='YOUR_API_SECRET'\n",
    "    )\n",
    "    response = client.send_message({\n",
    "        'from': 'YOUR_VIRTUAL_NUMBER',\n",
    "        'to': sender,\n",
    "        'text': 'Received your message. Thanks!'\n",
    "    })\n",
    "\n",
    "    return 'OK'"
   ]
  },
  {
   "cell_type": "code",
   "execution_count": null,
   "metadata": {},
   "outputs": [],
   "source": []
  }
 ],
 "metadata": {
  "kernelspec": {
   "display_name": "sms",
   "language": "python",
   "name": "python3"
  },
  "language_info": {
   "codemirror_mode": {
    "name": "ipython",
    "version": 3
   },
   "file_extension": ".py",
   "mimetype": "text/x-python",
   "name": "python",
   "nbconvert_exporter": "python",
   "pygments_lexer": "ipython3",
   "version": "3.8.16"
  },
  "orig_nbformat": 4
 },
 "nbformat": 4,
 "nbformat_minor": 2
}
