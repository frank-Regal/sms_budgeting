{
 "cells": [
  {
   "cell_type": "code",
   "execution_count": 13,
   "metadata": {},
   "outputs": [],
   "source": [
    "import requests\n",
    "import config\n",
    "import json"
   ]
  },
  {
   "cell_type": "code",
   "execution_count": 14,
   "metadata": {},
   "outputs": [],
   "source": [
    "textbelt_api = config.textbelt_api_key"
   ]
  },
  {
   "cell_type": "code",
   "execution_count": 12,
   "metadata": {},
   "outputs": [
    {
     "name": "stdout",
     "output_type": "stream",
     "text": [
      "{'success': True, 'textId': '16081689124790625', 'quotaRemaining': 44}\n"
     ]
    }
   ],
   "source": [
    "resp = requests.post('https://textbelt.com/text', {\n",
    "  'phone': '5702677711',\n",
    "  'message': 'Hello frank my name is python',\n",
    "  'key': textbelt_api,  \n",
    "})\n",
    "print(resp.json())"
   ]
  },
  {
   "cell_type": "code",
   "execution_count": 25,
   "metadata": {},
   "outputs": [],
   "source": [
    "def call():\n",
    "    print('now we talking')"
   ]
  },
  {
   "cell_type": "code",
   "execution_count": 28,
   "metadata": {},
   "outputs": [
    {
     "name": "stdout",
     "output_type": "stream",
     "text": [
      "now we talking\n",
      "{'success': False, 'error': 'Missing message parameter. Your request may be malformed.'}\n"
     ]
    }
   ],
   "source": [
    "rep = requests.post('https://textbelt.com/text', {\n",
    "        'phone': '5702677711',\n",
    "        'replyWebhookUrl': call(),\n",
    "        'key': textbelt_api,  \n",
    "        })\n",
    "\n",
    "print(rep.json())"
   ]
  },
  {
   "cell_type": "code",
   "execution_count": 23,
   "metadata": {},
   "outputs": [],
   "source": [
    "def listen_for_messages():\n",
    "    rep = requests.post('https://textbelt.com/text', {\n",
    "        'phone': '5702677711',\n",
    "        'message': 'Hello?',\n",
    "        'replyWebhookUrl': call(),\n",
    "        'key': textbelt_api,  \n",
    "        })\n",
    "    response = requests.get(rep)\n",
    "    print(response.text)\n",
    "    try:\n",
    "        data = json.loads(response.text)\n",
    "    \n",
    "        messages = data['messages']\n",
    "    \n",
    "        for message in messages:\n",
    "            sender = message['sender']\n",
    "            content = message['content']\n",
    "            # Do something with the sender and content, such as printing them\n",
    "            print(f\"Message from {sender}: {content}\")\n",
    "            return False\n",
    "    except json.JSONDecodeError as e:\n",
    "        print(f\"Error decoding JSON: {e}\")\n",
    "        return True"
   ]
  },
  {
   "cell_type": "code",
   "execution_count": 24,
   "metadata": {},
   "outputs": [
    {
     "name": "stdout",
     "output_type": "stream",
     "text": [
      "{\"success\":false,\"error\":\"Missing phone number parameter. Your request may be malformed.\"}\n"
     ]
    },
    {
     "ename": "KeyError",
     "evalue": "'messages'",
     "output_type": "error",
     "traceback": [
      "\u001b[0;31m---------------------------------------------------------------------------\u001b[0m",
      "\u001b[0;31mKeyError\u001b[0m                                  Traceback (most recent call last)",
      "Cell \u001b[0;32mIn[24], line 3\u001b[0m\n\u001b[1;32m      1\u001b[0m x \u001b[39m=\u001b[39m \u001b[39mTrue\u001b[39;00m\n\u001b[1;32m      2\u001b[0m \u001b[39mwhile\u001b[39;00m (x \u001b[39m==\u001b[39m \u001b[39mTrue\u001b[39;00m):\n\u001b[0;32m----> 3\u001b[0m     x \u001b[39m=\u001b[39m listen_for_messages()\n",
      "Cell \u001b[0;32mIn[23], line 8\u001b[0m, in \u001b[0;36mlisten_for_messages\u001b[0;34m()\u001b[0m\n\u001b[1;32m      5\u001b[0m \u001b[39mtry\u001b[39;00m:\n\u001b[1;32m      6\u001b[0m     data \u001b[39m=\u001b[39m json\u001b[39m.\u001b[39mloads(response\u001b[39m.\u001b[39mtext)\n\u001b[0;32m----> 8\u001b[0m     messages \u001b[39m=\u001b[39m data[\u001b[39m'\u001b[39;49m\u001b[39mmessages\u001b[39;49m\u001b[39m'\u001b[39;49m]\n\u001b[1;32m     10\u001b[0m     \u001b[39mfor\u001b[39;00m message \u001b[39min\u001b[39;00m messages:\n\u001b[1;32m     11\u001b[0m         sender \u001b[39m=\u001b[39m message[\u001b[39m'\u001b[39m\u001b[39msender\u001b[39m\u001b[39m'\u001b[39m]\n",
      "\u001b[0;31mKeyError\u001b[0m: 'messages'"
     ]
    }
   ],
   "source": [
    "x = True\n",
    "while (x == True):\n",
    "    x = listen_for_messages()"
   ]
  },
  {
   "cell_type": "code",
   "execution_count": null,
   "metadata": {},
   "outputs": [],
   "source": []
  }
 ],
 "metadata": {
  "kernelspec": {
   "display_name": "sms",
   "language": "python",
   "name": "python3"
  },
  "language_info": {
   "codemirror_mode": {
    "name": "ipython",
    "version": 3
   },
   "file_extension": ".py",
   "mimetype": "text/x-python",
   "name": "python",
   "nbconvert_exporter": "python",
   "pygments_lexer": "ipython3",
   "version": "3.8.16"
  },
  "orig_nbformat": 4
 },
 "nbformat": 4,
 "nbformat_minor": 2
}
