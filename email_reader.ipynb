{
 "cells": [
  {
   "cell_type": "code",
   "execution_count": 32,
   "metadata": {},
   "outputs": [],
   "source": [
    "import imaplib\n",
    "import pyzmail\n",
    "import requests\n",
    "import email\n",
    "import email_utils\n",
    "import re\n",
    "import openai\n",
    "import config\n",
    "import numpy as np\n",
    "\n",
    "from datetime import datetime"
   ]
  },
  {
   "cell_type": "code",
   "execution_count": 2,
   "metadata": {},
   "outputs": [],
   "source": [
    "# Set up OpenAI API credentials\n",
    "openai.api_key = config.open_ai_api_key\n",
    "email_username = config.username\n",
    "email_password = config.password"
   ]
  },
  {
   "cell_type": "code",
   "execution_count": 61,
   "metadata": {},
   "outputs": [
    {
     "name": "stdout",
     "output_type": "stream",
     "text": [
      " > Signed in as budget2396@outlook.com [b'LOGIN completed.']\n",
      "['2023-07-09-222844', 'na', 15.97, 'SQ *ZEDS ICE CREAM', 'budget2396@outlook.com']\n",
      "['2023-07-09-222904', 'na', 36.82, 'SQ *TFB OPERATIONS L', 'budget2396@outlook.com']\n",
      "['2023-07-09-235735', 'na', 40.0, 'HCTRA EZ TAG Rebill', 'budget2396@outlook.com']\n",
      "['2023-07-09-235747', 'na', 21.65, 'SQ *BOULDIN ACRES', 'budget2396@outlook.com']\n",
      "['2023-07-09-235800', 'na', 9.8, \"P. TERRY'S STAND #13\", 'budget2396@outlook.com']\n",
      "['2023-07-10-214714', 'na', 16.54, 'TMOBILE*PREPAID WEB', 'budget2396@outlook.com']\n"
     ]
    }
   ],
   "source": [
    "# Login to mailbox\n",
    "mailbox = email_utils.Outlook()\n",
    "mailbox.login(email_username, email_password)\n",
    "mailbox.inbox()\n",
    "\n",
    "# Grab all unread messages and search for transaction based emails.\n",
    "unread_ids = mailbox.allIds()\n",
    "matching_ids = mailbox.getIdswithWord(unread_ids, 'Chase Sapphire Reserve')  # Pass the correct iterable to the method\n",
    "\n",
    "# Set regular expression patterns for transaction amount and vendor type parsing.\n",
    "amount_pattern = r'\\$(\\d+\\.\\d{2})'\n",
    "vendor_pattern = r\"with\\s(.+)\"\n",
    "\n",
    "# Init transaction array\n",
    "transactions = []\n",
    "\n",
    "category = \"na\"\n",
    "\n",
    "# Loop through and parse each transaction email.\n",
    "for id in unread_ids:\n",
    "    mailbox.getEmail(id)\n",
    "    subject_line = mailbox.mailsubject()\n",
    "    \n",
    "    amount_match = re.search(amount_pattern, subject_line)\n",
    "    vendor_match = re.search(vendor_pattern, subject_line)\n",
    "    \n",
    "    if amount_match and vendor_match:\n",
    "        amount = float(amount_match.group(1))\n",
    "        vendor = vendor_match.group(1)\n",
    "\n",
    "        # get date and format\n",
    "        msg_date = mailbox.maildate()\n",
    "        msg_date = msg_date.replace(\"(EDT)\", \"\").strip()\n",
    "\n",
    "        try:\n",
    "            input_format = \"%a, %d %b %Y %H:%M:%S %z\"\n",
    "            dt = datetime.strptime(msg_date, input_format)\n",
    "            output_format = \"%Y-%m-%d-%H%M%S\"\n",
    "            frmt_date = dt.strftime(output_format)\n",
    "        except:\n",
    "            print(\"Issue with data-time conversion. Ignoring Entry.\")\n",
    "\n",
    "        transactions.append([frmt_date, category, amount, vendor, email_username])\n",
    "\n",
    "\n",
    "for i, j in enumerate(transactions):\n",
    "    print(j)\n"
   ]
  },
  {
   "cell_type": "code",
   "execution_count": 58,
   "metadata": {},
   "outputs": [],
   "source": [
    "vendor_categories = ['Automotive',\n",
    "                     'Bills & Utilities',\n",
    "                     'Education',\n",
    "                     'Entertainment',\n",
    "                     'Food & Drink', \n",
    "                     'Gas',\n",
    "                     'Groceries',\n",
    "                     'Health & Wellness',\n",
    "                     'Miscellaneous',\n",
    "                     'Travel',\n",
    "                     'Tolls',\n",
    "                     'Retail Shopping']"
   ]
  },
  {
   "cell_type": "code",
   "execution_count": 59,
   "metadata": {},
   "outputs": [],
   "source": [
    "# Use GPT-3.5 to determine the type of vendor\n",
    "\n",
    "def EstimateUnknownCategory(vendor):\n",
    "    gpt_prompt = f\"What type of vendor is '{vendor}'? Classify the vendor into one of the following categories: '{vendor_categories}'. Only return the specific category.\"\n",
    "    response = openai.Completion.create(\n",
    "        engine='text-davinci-003',\n",
    "        prompt=gpt_prompt,\n",
    "        max_tokens=100,\n",
    "        n=1,\n",
    "        stop=None,\n",
    "        temperature=0.3\n",
    "    )\n",
    "    return response.choices[0].text.strip()"
   ]
  },
  {
   "cell_type": "code",
   "execution_count": 60,
   "metadata": {},
   "outputs": [
    {
     "name": "stdout",
     "output_type": "stream",
     "text": [
      "['2023-07-09-222844', 'Food & Drink', 15.97, 'SQ *ZEDS ICE CREAM']\n",
      "['2023-07-09-222904', 'Miscellaneous', 36.82, 'SQ *TFB OPERATIONS L']\n",
      "['2023-07-09-235735', 'Tolls', 40.0, 'HCTRA EZ TAG Rebill']\n",
      "['2023-07-09-235747', 'Retail Shopping', 21.65, 'SQ *BOULDIN ACRES']\n",
      "['2023-07-09-235800', 'Food & Drink', 9.8, \"P. TERRY'S STAND #13\"]\n",
      "['2023-07-10-214714', 'Bills & Utilities', 16.54, 'TMOBILE*PREPAID WEB']\n"
     ]
    }
   ],
   "source": [
    "for i, transaction in enumerate(transactions):\n",
    "    \n",
    "    if(transaction[1] == \"na\"):\n",
    "        vendor_type = EstimateUnknownCategory(transaction[-1])\n",
    "        transaction[1] = vendor_type\n",
    "\n",
    "    print(transaction)\n"
   ]
  }
 ],
 "metadata": {
  "kernelspec": {
   "display_name": "sms",
   "language": "python",
   "name": "python3"
  },
  "language_info": {
   "codemirror_mode": {
    "name": "ipython",
    "version": 3
   },
   "file_extension": ".py",
   "mimetype": "text/x-python",
   "name": "python",
   "nbconvert_exporter": "python",
   "pygments_lexer": "ipython3",
   "version": "3.8.16"
  },
  "orig_nbformat": 4
 },
 "nbformat": 4,
 "nbformat_minor": 2
}
