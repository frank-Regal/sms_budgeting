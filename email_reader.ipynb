{
 "cells": [
  {
   "cell_type": "code",
   "execution_count": 1,
   "metadata": {},
   "outputs": [],
   "source": [
    "import imaplib\n",
    "import pyzmail\n",
    "import requests\n",
    "import email\n",
    "import email_utils\n",
    "import re\n",
    "import openai\n",
    "import config"
   ]
  },
  {
   "cell_type": "code",
   "execution_count": 2,
   "metadata": {},
   "outputs": [],
   "source": [
    "# Set up OpenAI API credentials\n",
    "openai.api_key = config.open_ai_api_key\n",
    "email_username = config.username\n",
    "email_password = config.password"
   ]
  },
  {
   "cell_type": "code",
   "execution_count": 3,
   "metadata": {},
   "outputs": [
    {
     "name": "stdout",
     "output_type": "stream",
     "text": [
      " > Signed in as budget2396@outlook.com [b'LOGIN completed.']\n"
     ]
    }
   ],
   "source": [
    "# Login to mailbox\n",
    "mailbox = email_utils.Outlook()\n",
    "mailbox.login(email_username, email_password)\n",
    "mailbox.inbox()\n",
    "\n",
    "# Grab all unread messages and search for transaction based emails.\n",
    "unread_ids = mailbox.unreadIds()\n",
    "matching_ids = mailbox.getIdswithWord(unread_ids, 'transaction')  # Pass the correct iterable to the method\n",
    "\n",
    "# Set regular expression patterns for transaction amount and vendor type parsing.\n",
    "amount_pattern = r'\\$(\\d+\\.\\d{2})'\n",
    "vendor_pattern = r\"with\\s(.+)\"\n",
    "\n",
    "# Init transaction array\n",
    "transaction_info = []\n",
    "\n",
    "# Loop through and parse each transaction email.\n",
    "for id in unread_ids:\n",
    "    mailbox.getEmail(id)\n",
    "    subject_line = mailbox.mailsubject()\n",
    "    \n",
    "    amount_match = re.search(amount_pattern, subject_line)\n",
    "    vendor_match = re.search(vendor_pattern, subject_line)\n",
    "    \n",
    "    if amount_match and vendor_match:\n",
    "        amount = amount_match.group(1)\n",
    "        vendor = vendor_match.group(1)\n",
    "        transaction_info.append((amount, vendor))\n",
    "\n"
   ]
  },
  {
   "cell_type": "code",
   "execution_count": 4,
   "metadata": {},
   "outputs": [],
   "source": [
    "# Use GPT-3.5 to determine the type of vendor\n",
    "vendor_categories = ['Food & Drink', 'Bills & Utilities', 'Shopping', 'Other']\n",
    "\n",
    "\n",
    "for amount, vendor in transaction_info:\n",
    "    gpt_prompt = f\"What type of vendor is '{vendor}'? Classify the vendor into one of the following categories: '{vendor_categories}'. Only return the specific category.\"\n",
    "    response = openai.Completion.create(\n",
    "        engine='text-davinci-003',\n",
    "        prompt=gpt_prompt,\n",
    "        max_tokens=100,\n",
    "        n=1,\n",
    "        stop=None,\n",
    "        temperature=0.3\n",
    "    )\n",
    "    vendor_type = response.choices[0].text.strip()\n",
    "    \n",
    "    print(f\"Transaction Amount: ${amount}\")\n",
    "    print(f\"Vendor Name: {vendor}\")\n",
    "    print(f\"Vendor Type: {vendor_type}\")\n",
    "    print()"
   ]
  }
 ],
 "metadata": {
  "kernelspec": {
   "display_name": "sms",
   "language": "python",
   "name": "python3"
  },
  "language_info": {
   "codemirror_mode": {
    "name": "ipython",
    "version": 3
   },
   "file_extension": ".py",
   "mimetype": "text/x-python",
   "name": "python",
   "nbconvert_exporter": "python",
   "pygments_lexer": "ipython3",
   "version": "3.8.16"
  },
  "orig_nbformat": 4
 },
 "nbformat": 4,
 "nbformat_minor": 2
}
