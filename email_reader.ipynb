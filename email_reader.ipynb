{
 "cells": [
  {
   "cell_type": "code",
   "execution_count": 1,
   "metadata": {},
   "outputs": [],
   "source": [
    "import imaplib\n",
    "import pyzmail\n",
    "import requests\n",
    "import email\n",
    "import outlook\n",
    "import re\n",
    "import openai\n",
    "import config"
   ]
  },
  {
   "cell_type": "code",
   "execution_count": 2,
   "metadata": {},
   "outputs": [],
   "source": [
    "# Set up OpenAI API credentials\n",
    "openai.api_key = config.open_ai_api_key\n",
    "email_username = config.username\n",
    "email_password = config.password"
   ]
  },
  {
   "cell_type": "code",
   "execution_count": 3,
   "metadata": {},
   "outputs": [
    {
     "name": "stdout",
     "output_type": "stream",
     "text": [
      "Hello World\n",
      " > Signed in as budget2396@outlook.com [b'LOGIN completed.']\n"
     ]
    }
   ],
   "source": [
    "mailbox = outlook.Outlook()\n",
    "mailbox.login(email_username, email_password)\n",
    "mailbox.inbox()\n",
    "\n",
    "unread_ids = mailbox.unreadIds()\n",
    "matching_ids = mailbox.getIdswithWord(unread_ids, 'transaction')  # Pass the correct iterable to the method\n",
    "\n",
    "# Regular expression patterns\n",
    "amount_pattern = r'\\$(\\d+\\.\\d{2})'\n",
    "#vendor_pattern = r'\\*\\s([\\w\\s]+)'\n",
    "vendor_pattern = r\"with\\s(.+)\"\n",
    "\n",
    "\n",
    "# Extract transaction amount and vendor name\n",
    "transaction_info = []\n",
    "\n",
    "for id in unread_ids:\n",
    "    mailbox.getEmail(id)\n",
    "    subject_line = mailbox.mailsubject()\n",
    "    amount_match = re.search(amount_pattern, subject_line)\n",
    "    vendor_match = re.search(vendor_pattern, subject_line)\n",
    "    if amount_match and vendor_match:\n",
    "        amount = amount_match.group(1)\n",
    "        vendor = vendor_match.group(1)\n",
    "        #print(amount)\n",
    "        #print(vendor)\n",
    "        transaction_info.append((amount, vendor))\n",
    "\n",
    "#print(transaction_info)\n",
    "\n"
   ]
  },
  {
   "cell_type": "code",
   "execution_count": 4,
   "metadata": {},
   "outputs": [
    {
     "name": "stdout",
     "output_type": "stream",
     "text": [
      "Transaction Amount: $15.97\n",
      "Vendor Name: SQ *ZEDS ICE CREAM\n",
      "Vendor Type: Food & Drink\n",
      "\n",
      "Transaction Amount: $36.82\n",
      "Vendor Name: SQ *TFB OPERATIONS L\n",
      "Vendor Type: Bills & Utilities\n",
      "\n",
      "Transaction Amount: $40.00\n",
      "Vendor Name: HCTRA EZ TAG Rebill\n",
      "Vendor Type: Bills & Utilities\n",
      "\n",
      "Transaction Amount: $21.65\n",
      "Vendor Name: SQ *BOULDIN ACRES\n",
      "Vendor Type: Food & Drink\n",
      "\n",
      "Transaction Amount: $9.80\n",
      "Vendor Name: P. TERRY'S STAND #13\n",
      "Vendor Type: Food & Drink\n",
      "\n"
     ]
    }
   ],
   "source": [
    "# Use GPT-3.5 to determine the type of vendor\n",
    "vendor_categories = ['Food & Drink', 'Bills & Utilities', 'Shopping', 'Other']\n",
    "\n",
    "for amount, vendor in transaction_info:\n",
    "    gpt_prompt = f\"What type of vendor is '{vendor}'? Classify the vendor into one of the following categories: '{vendor_categories}'. Only return the specific category.\"\n",
    "    response = openai.Completion.create(\n",
    "        engine='text-davinci-003',\n",
    "        prompt=gpt_prompt,\n",
    "        max_tokens=100,\n",
    "        n=1,\n",
    "        stop=None,\n",
    "        temperature=0.3\n",
    "    )\n",
    "    vendor_type = response.choices[0].text.strip()\n",
    "    \n",
    "    print(f\"Transaction Amount: ${amount}\")\n",
    "    print(f\"Vendor Name: {vendor}\")\n",
    "    print(f\"Vendor Type: {vendor_type}\")\n",
    "    print()"
   ]
  }
 ],
 "metadata": {
  "kernelspec": {
   "display_name": "sms",
   "language": "python",
   "name": "python3"
  },
  "language_info": {
   "codemirror_mode": {
    "name": "ipython",
    "version": 3
   },
   "file_extension": ".py",
   "mimetype": "text/x-python",
   "name": "python",
   "nbconvert_exporter": "python",
   "pygments_lexer": "ipython3",
   "version": "3.8.16"
  },
  "orig_nbformat": 4
 },
 "nbformat": 4,
 "nbformat_minor": 2
}
