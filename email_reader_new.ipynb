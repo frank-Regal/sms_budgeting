{
 "cells": [
  {
   "cell_type": "code",
   "execution_count": 2,
   "metadata": {},
   "outputs": [],
   "source": [
    "import os.path\n",
    "import base64\n",
    "import json\n",
    "import re\n",
    "import time\n",
    "from google.auth.transport.requests import Request\n",
    "from google.oauth2.credentials import Credentials\n",
    "from google_auth_oauthlib.flow import InstalledAppFlow\n",
    "\n",
    "import logging\n",
    "import requests\n",
    "\n",
    "from googleapiclient.discovery import build\n"
   ]
  },
  {
   "cell_type": "code",
   "execution_count": 3,
   "metadata": {},
   "outputs": [],
   "source": [
    "SCOPES = ['https://www.googleapis.com/auth/gmail.readonly','https://www.googleapis.com/auth/gmail.modify']"
   ]
  },
  {
   "cell_type": "code",
   "execution_count": 4,
   "metadata": {},
   "outputs": [],
   "source": [
    "def readEmails():\n",
    "    \"\"\"Shows basic usage of the Gmail API.\n",
    "    Lists the user's Gmail labels.\n",
    "    \"\"\"\n",
    "    creds = None\n",
    "    # The file token.json stores the user's access and refresh tokens, and is\n",
    "    # created automatically when the authorization flow completes for the first\n",
    "    # time.\n",
    "    if os.path.exists('token.json'):\n",
    "        creds = Credentials.from_authorized_user_file('token.json', SCOPES)\n",
    "    # If there are no (valid) credentials available, let the user log in.\n",
    "    if not creds or not creds.valid:\n",
    "        if creds and creds.expired and creds.refresh_token:\n",
    "            creds.refresh(Request())\n",
    "        else:\n",
    "            flow = InstalledAppFlow.from_client_secrets_file(               \n",
    "                # your creds file here. Please create json file as here https://cloud.google.com/docs/authentication/getting-started\n",
    "                './../../.config/gcloud/application_default_credentials.json', SCOPES)\n",
    "            creds = flow.run_local_server(port=0)\n",
    "        # Save the credentials for the next run\n",
    "        with open('token.json', 'w') as token:\n",
    "            token.write(creds.to_json())\n",
    "    try:\n",
    "        # Call the Gmail API\n",
    "        service = build('gmail', 'v1', credentials=creds)\n",
    "        results = service.users().messages().list(userId='me', labelIds=['INBOX'], q=\"is:unread\").execute()\n",
    "        messages = results.get('messages',[]);\n",
    "        if not messages:\n",
    "            print('No new messages.')\n",
    "        else:\n",
    "            message_count = 0\n",
    "            #for message in messages:\n",
    "            message = messages[0]\n",
    "            msg = service.users().messages().get(userId='me', id=message['id']).execute()                \n",
    "            email_data = msg['payload']['headers']\n",
    "            for values in email_data:\n",
    "                name = values['name']\n",
    "                if name == 'From':\n",
    "                    from_name= values['value']                \n",
    "                    for part in msg['payload']['parts']:\n",
    "                        try:\n",
    "                            data = part['body'][\"data\"]\n",
    "                            byte_code = base64.urlsafe_b64decode(data)\n",
    "                            text = byte_code.decode(\"utf-8\")\n",
    "                            print (\"This is the message: \"+ str(text))\n",
    "                            # mark the message as read (optional)\n",
    "                            msg  = service.users().messages().modify(userId='me', id=message['id'], body={'removeLabelIds': ['UNREAD']}).execute()                                                       \n",
    "                        except BaseException as error:\n",
    "                            pass                            \n",
    "    except Exception as error:\n",
    "        print(f'An error occurred: {error}')"
   ]
  },
  {
   "cell_type": "code",
   "execution_count": 7,
   "metadata": {},
   "outputs": [
    {
     "ename": "FileNotFoundError",
     "evalue": "[Errno 2] No such file or directory: '~/.config/gcloud/application_default_credentials.json'",
     "output_type": "error",
     "traceback": [
      "\u001b[0;31m---------------------------------------------------------------------------\u001b[0m",
      "\u001b[0;31mFileNotFoundError\u001b[0m                         Traceback (most recent call last)",
      "Cell \u001b[0;32mIn[7], line 1\u001b[0m\n\u001b[0;32m----> 1\u001b[0m readEmails()\n",
      "Cell \u001b[0;32mIn[4], line 16\u001b[0m, in \u001b[0;36mreadEmails\u001b[0;34m()\u001b[0m\n\u001b[1;32m     14\u001b[0m     creds\u001b[39m.\u001b[39mrefresh(Request())\n\u001b[1;32m     15\u001b[0m \u001b[39melse\u001b[39;00m:\n\u001b[0;32m---> 16\u001b[0m     flow \u001b[39m=\u001b[39m InstalledAppFlow\u001b[39m.\u001b[39;49mfrom_client_secrets_file(               \n\u001b[1;32m     17\u001b[0m         \u001b[39m# your creds file here. Please create json file as here https://cloud.google.com/docs/authentication/getting-started\u001b[39;49;00m\n\u001b[1;32m     18\u001b[0m         \u001b[39m'\u001b[39;49m\u001b[39m~/.config/gcloud/application_default_credentials.json\u001b[39;49m\u001b[39m'\u001b[39;49m, SCOPES)\n\u001b[1;32m     19\u001b[0m     creds \u001b[39m=\u001b[39m flow\u001b[39m.\u001b[39mrun_local_server(port\u001b[39m=\u001b[39m\u001b[39m0\u001b[39m)\n\u001b[1;32m     20\u001b[0m \u001b[39m# Save the credentials for the next run\u001b[39;00m\n",
      "File \u001b[0;32m~/.local/lib/python3.8/site-packages/google_auth_oauthlib/flow.py:201\u001b[0m, in \u001b[0;36mFlow.from_client_secrets_file\u001b[0;34m(cls, client_secrets_file, scopes, **kwargs)\u001b[0m\n\u001b[1;32m    186\u001b[0m \u001b[39m@classmethod\u001b[39m\n\u001b[1;32m    187\u001b[0m \u001b[39mdef\u001b[39;00m \u001b[39mfrom_client_secrets_file\u001b[39m(\u001b[39mcls\u001b[39m, client_secrets_file, scopes, \u001b[39m*\u001b[39m\u001b[39m*\u001b[39mkwargs):\n\u001b[1;32m    188\u001b[0m \u001b[39m    \u001b[39m\u001b[39m\"\"\"Creates a :class:`Flow` instance from a Google client secrets file.\u001b[39;00m\n\u001b[1;32m    189\u001b[0m \n\u001b[1;32m    190\u001b[0m \u001b[39m    Args:\u001b[39;00m\n\u001b[0;32m   (...)\u001b[0m\n\u001b[1;32m    199\u001b[0m \u001b[39m        Flow: The constructed Flow instance.\u001b[39;00m\n\u001b[1;32m    200\u001b[0m \u001b[39m    \"\"\"\u001b[39;00m\n\u001b[0;32m--> 201\u001b[0m     \u001b[39mwith\u001b[39;00m \u001b[39mopen\u001b[39;49m(client_secrets_file, \u001b[39m\"\u001b[39;49m\u001b[39mr\u001b[39;49m\u001b[39m\"\u001b[39;49m) \u001b[39mas\u001b[39;00m json_file:\n\u001b[1;32m    202\u001b[0m         client_config \u001b[39m=\u001b[39m json\u001b[39m.\u001b[39mload(json_file)\n\u001b[1;32m    204\u001b[0m     \u001b[39mreturn\u001b[39;00m \u001b[39mcls\u001b[39m\u001b[39m.\u001b[39mfrom_client_config(client_config, scopes\u001b[39m=\u001b[39mscopes, \u001b[39m*\u001b[39m\u001b[39m*\u001b[39mkwargs)\n",
      "\u001b[0;31mFileNotFoundError\u001b[0m: [Errno 2] No such file or directory: '~/.config/gcloud/application_default_credentials.json'"
     ]
    }
   ],
   "source": [
    "readEmails()"
   ]
  },
  {
   "cell_type": "code",
   "execution_count": null,
   "metadata": {},
   "outputs": [],
   "source": []
  }
 ],
 "metadata": {
  "kernelspec": {
   "display_name": "sms",
   "language": "python",
   "name": "python3"
  },
  "language_info": {
   "codemirror_mode": {
    "name": "ipython",
    "version": 3
   },
   "file_extension": ".py",
   "mimetype": "text/x-python",
   "name": "python",
   "nbconvert_exporter": "python",
   "pygments_lexer": "ipython3",
   "version": "3.8.16"
  },
  "orig_nbformat": 4
 },
 "nbformat": 4,
 "nbformat_minor": 2
}
